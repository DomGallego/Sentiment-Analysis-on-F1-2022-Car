{
 "cells": [
  {
   "cell_type": "markdown",
   "id": "df0c9647",
   "metadata": {},
   "source": [
    "# Relevant Questions/ Business Understanding\n",
    "\n",
    "    1. What is the general view of the public on the new F1 2022 car and regulations?\n",
    "    2. How did the public's opnion change from October 2019 to March 2022?\n",
    "   [Article from October 2019 from F1 Official Website](https://www.formula1.com/en/latest/article.2021-f1-rules-the-key-changes-explained.2dCtCkxNofk20K1B4rJwTk.html) on the new regulations announcement. \n",
    "   \n",
    "    3. How did the public's opnion change from December 2020 to March 2022 per team?\n",
    "    4. What team was the most liked?\n",
    "    5. What were the main keywords on the new cars and regulations? (tag cloud)"
   ]
  },
  {
   "cell_type": "markdown",
   "id": "f2f04069",
   "metadata": {},
   "source": [
    "# Data Collection"
   ]
  },
  {
   "cell_type": "code",
   "execution_count": 1,
   "id": "1e36702c",
   "metadata": {},
   "outputs": [],
   "source": [
    "import pandas as pd\n",
    "import datetime as dt\n",
    "from twitterscraper import query_tweets\n",
    "from langdetect import detect"
   ]
  },
  {
   "cell_type": "code",
   "execution_count": 2,
   "id": "516deea9",
   "metadata": {},
   "outputs": [],
   "source": [
    "def detector(x):\n",
    "    try:\n",
    "        return detect(x)\n",
    "    except:\n",
    "        None"
   ]
  },
  {
   "cell_type": "code",
   "execution_count": null,
   "id": "1e412e24",
   "metadata": {},
   "outputs": [],
   "source": [
    "# set time frame for collection of tweets\n"
   ]
  },
  {
   "cell_type": "code",
   "execution_count": null,
   "id": "48b17ca4",
   "metadata": {},
   "outputs": [],
   "source": []
  },
  {
   "cell_type": "code",
   "execution_count": null,
   "id": "6c1fc72a",
   "metadata": {},
   "outputs": [],
   "source": []
  },
  {
   "cell_type": "markdown",
   "id": "c1bd91da",
   "metadata": {},
   "source": [
    "# Data Cleaning"
   ]
  },
  {
   "cell_type": "code",
   "execution_count": null,
   "id": "2690c831",
   "metadata": {},
   "outputs": [],
   "source": []
  },
  {
   "cell_type": "markdown",
   "id": "46b8c555",
   "metadata": {},
   "source": [
    "# Exploratory Data Analysis"
   ]
  },
  {
   "cell_type": "code",
   "execution_count": null,
   "id": "71f3ba43",
   "metadata": {},
   "outputs": [],
   "source": []
  },
  {
   "cell_type": "markdown",
   "id": "027a1d42",
   "metadata": {},
   "source": [
    "# Feature Engineering"
   ]
  },
  {
   "cell_type": "code",
   "execution_count": null,
   "id": "fdfc13e8",
   "metadata": {},
   "outputs": [],
   "source": []
  },
  {
   "cell_type": "markdown",
   "id": "9741659a",
   "metadata": {},
   "source": [
    "# Model Building"
   ]
  },
  {
   "cell_type": "code",
   "execution_count": null,
   "id": "fef9ee45",
   "metadata": {},
   "outputs": [],
   "source": []
  },
  {
   "cell_type": "markdown",
   "id": "bfc36d4e",
   "metadata": {},
   "source": [
    "# Conclusions and Visualizations"
   ]
  },
  {
   "cell_type": "code",
   "execution_count": null,
   "id": "e458b722",
   "metadata": {},
   "outputs": [],
   "source": []
  }
 ],
 "metadata": {
  "kernelspec": {
   "display_name": "Python 3 (ipykernel)",
   "language": "python",
   "name": "python3"
  },
  "language_info": {
   "codemirror_mode": {
    "name": "ipython",
    "version": 3
   },
   "file_extension": ".py",
   "mimetype": "text/x-python",
   "name": "python",
   "nbconvert_exporter": "python",
   "pygments_lexer": "ipython3",
   "version": "3.9.7"
  }
 },
 "nbformat": 4,
 "nbformat_minor": 5
}
