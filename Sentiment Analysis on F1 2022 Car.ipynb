{
 "cells": [
  {
   "cell_type": "markdown",
   "id": "df0c9647",
   "metadata": {},
   "source": [
    "# Relevant Questions/ Business Understanding\n",
    "\n",
    "    1. What is the general view of the public on the new F1 2022 car and regulations?\n",
    "    2. How did the public's opinion change from March 2020 to March 2022 (before first race)? \n",
    "   [Article about delaying new F1 regulations to 2022](https://www.formula1.com/en/latest/article.fia-announce-new-f1-regulations-to-be-delayed-until-2022.1lwtaLmpNcQd0z9SnMEyK8.html), which was published on March 19, 2020.\n",
    "   \n",
    "    3. How did the public's opinion change from March 2020 to March 2022 (before first race) per team?\n",
    "    4. What team was the most liked?\n",
    "    5. What were the main keywords on the new cars and regulations? (tag cloud)"
   ]
  },
  {
   "cell_type": "markdown",
   "id": "f2f04069",
   "metadata": {},
   "source": [
    "# Data Collection"
   ]
  },
  {
   "cell_type": "code",
   "execution_count": 1,
   "id": "57d3048a",
   "metadata": {},
   "outputs": [],
   "source": [
    "import pandas as pd\n",
    "import datetime as dt\n",
    "import twint as t\n",
    "import nest_asyncio\n",
    "\n",
    "nest_asyncio.apply()"
   ]
  },
  {
   "cell_type": "code",
   "execution_count": null,
   "id": "304ddaba",
   "metadata": {},
   "outputs": [],
   "source": [
    "# extract tweets about f1 2022 car from March 19, 2020 to March 17, 2022\n",
    "\n",
    "\"\"\"\n",
    "c = t.Config()\n",
    "\n",
    "c.Search = [\"f1 2022 car\"]\n",
    "c.Limit = None\n",
    "c.Store_csv = True\n",
    "c.Output = \"tweets.csv\"\n",
    "c.Lang = \"en\"\n",
    "c.Since = \"2020-3-19\"\n",
    "c.Until = \"2022-3-17\"\n",
    "\n",
    "t.run.Search(c)\n",
    "\"\"\""
   ]
  },
  {
   "cell_type": "code",
   "execution_count": 2,
   "id": "58fe5869",
   "metadata": {},
   "outputs": [],
   "source": [
    "# store in a pandas dataframe\n",
    "df_tweets = pd.read_csv(\"tweets.csv\")"
   ]
  },
  {
   "cell_type": "code",
   "execution_count": 3,
   "id": "ef3d5392",
   "metadata": {},
   "outputs": [
    {
     "data": {
      "text/html": [
       "<div>\n",
       "<style scoped>\n",
       "    .dataframe tbody tr th:only-of-type {\n",
       "        vertical-align: middle;\n",
       "    }\n",
       "\n",
       "    .dataframe tbody tr th {\n",
       "        vertical-align: top;\n",
       "    }\n",
       "\n",
       "    .dataframe thead th {\n",
       "        text-align: right;\n",
       "    }\n",
       "</style>\n",
       "<table border=\"1\" class=\"dataframe\">\n",
       "  <thead>\n",
       "    <tr style=\"text-align: right;\">\n",
       "      <th></th>\n",
       "      <th>id</th>\n",
       "      <th>conversation_id</th>\n",
       "      <th>created_at</th>\n",
       "      <th>date</th>\n",
       "      <th>time</th>\n",
       "      <th>timezone</th>\n",
       "      <th>user_id</th>\n",
       "      <th>username</th>\n",
       "      <th>name</th>\n",
       "      <th>place</th>\n",
       "      <th>...</th>\n",
       "      <th>geo</th>\n",
       "      <th>source</th>\n",
       "      <th>user_rt_id</th>\n",
       "      <th>user_rt</th>\n",
       "      <th>retweet_id</th>\n",
       "      <th>reply_to</th>\n",
       "      <th>retweet_date</th>\n",
       "      <th>translate</th>\n",
       "      <th>trans_src</th>\n",
       "      <th>trans_dest</th>\n",
       "    </tr>\n",
       "  </thead>\n",
       "  <tbody>\n",
       "    <tr>\n",
       "      <th>0</th>\n",
       "      <td>1504233064502857732</td>\n",
       "      <td>1504216927971024904</td>\n",
       "      <td>2022-03-17 07:08:04 China Standard Time</td>\n",
       "      <td>2022-03-17</td>\n",
       "      <td>07:08:04</td>\n",
       "      <td>800</td>\n",
       "      <td>896928340346535937</td>\n",
       "      <td>cosmic_interest</td>\n",
       "      <td>Luca Viani</td>\n",
       "      <td>NaN</td>\n",
       "      <td>...</td>\n",
       "      <td>NaN</td>\n",
       "      <td>NaN</td>\n",
       "      <td>NaN</td>\n",
       "      <td>NaN</td>\n",
       "      <td>NaN</td>\n",
       "      <td>[{'screen_name': 'TwommoF1', 'name': 'Tommo', ...</td>\n",
       "      <td>NaN</td>\n",
       "      <td>NaN</td>\n",
       "      <td>NaN</td>\n",
       "      <td>NaN</td>\n",
       "    </tr>\n",
       "    <tr>\n",
       "      <th>1</th>\n",
       "      <td>1504191974806626313</td>\n",
       "      <td>1504191974806626313</td>\n",
       "      <td>2022-03-17 04:24:47 China Standard Time</td>\n",
       "      <td>2022-03-17</td>\n",
       "      <td>04:24:47</td>\n",
       "      <td>800</td>\n",
       "      <td>1366503856495026184</td>\n",
       "      <td>therealbazzzy_</td>\n",
       "      <td>Bazzzy</td>\n",
       "      <td>NaN</td>\n",
       "      <td>...</td>\n",
       "      <td>NaN</td>\n",
       "      <td>NaN</td>\n",
       "      <td>NaN</td>\n",
       "      <td>NaN</td>\n",
       "      <td>NaN</td>\n",
       "      <td>[]</td>\n",
       "      <td>NaN</td>\n",
       "      <td>NaN</td>\n",
       "      <td>NaN</td>\n",
       "      <td>NaN</td>\n",
       "    </tr>\n",
       "    <tr>\n",
       "      <th>2</th>\n",
       "      <td>1504147041500467202</td>\n",
       "      <td>1504147041500467202</td>\n",
       "      <td>2022-03-17 01:26:15 China Standard Time</td>\n",
       "      <td>2022-03-17</td>\n",
       "      <td>01:26:15</td>\n",
       "      <td>800</td>\n",
       "      <td>2283806204</td>\n",
       "      <td>rparabrisas</td>\n",
       "      <td>Revista Parabrisas</td>\n",
       "      <td>NaN</td>\n",
       "      <td>...</td>\n",
       "      <td>NaN</td>\n",
       "      <td>NaN</td>\n",
       "      <td>NaN</td>\n",
       "      <td>NaN</td>\n",
       "      <td>NaN</td>\n",
       "      <td>[]</td>\n",
       "      <td>NaN</td>\n",
       "      <td>NaN</td>\n",
       "      <td>NaN</td>\n",
       "      <td>NaN</td>\n",
       "    </tr>\n",
       "    <tr>\n",
       "      <th>3</th>\n",
       "      <td>1504125478445236227</td>\n",
       "      <td>1504125478445236227</td>\n",
       "      <td>2022-03-17 00:00:34 China Standard Time</td>\n",
       "      <td>2022-03-17</td>\n",
       "      <td>00:00:34</td>\n",
       "      <td>800</td>\n",
       "      <td>1376348324299694081</td>\n",
       "      <td>loseweight8119</td>\n",
       "      <td>FitForLife</td>\n",
       "      <td>NaN</td>\n",
       "      <td>...</td>\n",
       "      <td>NaN</td>\n",
       "      <td>NaN</td>\n",
       "      <td>NaN</td>\n",
       "      <td>NaN</td>\n",
       "      <td>NaN</td>\n",
       "      <td>[]</td>\n",
       "      <td>NaN</td>\n",
       "      <td>NaN</td>\n",
       "      <td>NaN</td>\n",
       "      <td>NaN</td>\n",
       "    </tr>\n",
       "    <tr>\n",
       "      <th>4</th>\n",
       "      <td>1504117147378794497</td>\n",
       "      <td>1504117147378794497</td>\n",
       "      <td>2022-03-16 23:27:27 China Standard Time</td>\n",
       "      <td>2022-03-16</td>\n",
       "      <td>23:27:27</td>\n",
       "      <td>800</td>\n",
       "      <td>434300744</td>\n",
       "      <td>matthilger1</td>\n",
       "      <td>MATT</td>\n",
       "      <td>NaN</td>\n",
       "      <td>...</td>\n",
       "      <td>NaN</td>\n",
       "      <td>NaN</td>\n",
       "      <td>NaN</td>\n",
       "      <td>NaN</td>\n",
       "      <td>NaN</td>\n",
       "      <td>[]</td>\n",
       "      <td>NaN</td>\n",
       "      <td>NaN</td>\n",
       "      <td>NaN</td>\n",
       "      <td>NaN</td>\n",
       "    </tr>\n",
       "  </tbody>\n",
       "</table>\n",
       "<p>5 rows × 36 columns</p>\n",
       "</div>"
      ],
      "text/plain": [
       "                    id      conversation_id  \\\n",
       "0  1504233064502857732  1504216927971024904   \n",
       "1  1504191974806626313  1504191974806626313   \n",
       "2  1504147041500467202  1504147041500467202   \n",
       "3  1504125478445236227  1504125478445236227   \n",
       "4  1504117147378794497  1504117147378794497   \n",
       "\n",
       "                                created_at        date      time  timezone  \\\n",
       "0  2022-03-17 07:08:04 China Standard Time  2022-03-17  07:08:04       800   \n",
       "1  2022-03-17 04:24:47 China Standard Time  2022-03-17  04:24:47       800   \n",
       "2  2022-03-17 01:26:15 China Standard Time  2022-03-17  01:26:15       800   \n",
       "3  2022-03-17 00:00:34 China Standard Time  2022-03-17  00:00:34       800   \n",
       "4  2022-03-16 23:27:27 China Standard Time  2022-03-16  23:27:27       800   \n",
       "\n",
       "               user_id         username                name place  ... geo  \\\n",
       "0   896928340346535937  cosmic_interest          Luca Viani   NaN  ... NaN   \n",
       "1  1366503856495026184   therealbazzzy_              Bazzzy   NaN  ... NaN   \n",
       "2           2283806204      rparabrisas  Revista Parabrisas   NaN  ... NaN   \n",
       "3  1376348324299694081   loseweight8119          FitForLife   NaN  ... NaN   \n",
       "4            434300744      matthilger1                MATT   NaN  ... NaN   \n",
       "\n",
       "  source user_rt_id user_rt retweet_id  \\\n",
       "0    NaN        NaN     NaN        NaN   \n",
       "1    NaN        NaN     NaN        NaN   \n",
       "2    NaN        NaN     NaN        NaN   \n",
       "3    NaN        NaN     NaN        NaN   \n",
       "4    NaN        NaN     NaN        NaN   \n",
       "\n",
       "                                            reply_to  retweet_date  translate  \\\n",
       "0  [{'screen_name': 'TwommoF1', 'name': 'Tommo', ...           NaN        NaN   \n",
       "1                                                 []           NaN        NaN   \n",
       "2                                                 []           NaN        NaN   \n",
       "3                                                 []           NaN        NaN   \n",
       "4                                                 []           NaN        NaN   \n",
       "\n",
       "  trans_src trans_dest  \n",
       "0       NaN        NaN  \n",
       "1       NaN        NaN  \n",
       "2       NaN        NaN  \n",
       "3       NaN        NaN  \n",
       "4       NaN        NaN  \n",
       "\n",
       "[5 rows x 36 columns]"
      ]
     },
     "execution_count": 3,
     "metadata": {},
     "output_type": "execute_result"
    }
   ],
   "source": [
    "df_tweets.head()"
   ]
  },
  {
   "cell_type": "code",
   "execution_count": 4,
   "id": "ea267a4c",
   "metadata": {},
   "outputs": [
    {
     "data": {
      "text/plain": [
       "0       @TwommoF1 F1 2022 car, you can fit a family in...\n",
       "1       I AM LIVE FOR MY FIRST STREAM AS PAST OF THE T...\n",
       "2       Los nuevos Safety Car y Medical Car de la F1 2...\n",
       "3       F1 2022: six things to look forward to in the ...\n",
       "4       Why Bahrain has exposed the weaknesses of F1 2...\n",
       "                              ...                        \n",
       "2309          Those rims will be on F1 2022 cars ohvgkkgg\n",
       "2310    F1 2022 Concept Liveries.   What do you think ...\n",
       "2311    CAN NOT WAIT FOR F1 2022. These cars look insa...\n",
       "2312    Ford F1 2022 Livery Concept and on track visua...\n",
       "2313    Brawn rules out any further delay of new #F1 2...\n",
       "Name: tweet, Length: 2314, dtype: object"
      ]
     },
     "execution_count": 4,
     "metadata": {},
     "output_type": "execute_result"
    }
   ],
   "source": [
    "df_tweets[\"tweet\"]"
   ]
  },
  {
   "cell_type": "markdown",
   "id": "c1bd91da",
   "metadata": {},
   "source": [
    "# Data Cleaning"
   ]
  },
  {
   "cell_type": "code",
   "execution_count": null,
   "id": "3923e850",
   "metadata": {},
   "outputs": [],
   "source": []
  },
  {
   "cell_type": "code",
   "execution_count": null,
   "id": "2690c831",
   "metadata": {},
   "outputs": [],
   "source": []
  },
  {
   "cell_type": "markdown",
   "id": "46b8c555",
   "metadata": {},
   "source": [
    "# Exploratory Data Analysis"
   ]
  },
  {
   "cell_type": "code",
   "execution_count": null,
   "id": "71f3ba43",
   "metadata": {},
   "outputs": [],
   "source": []
  },
  {
   "cell_type": "code",
   "execution_count": null,
   "id": "64d3d8ab",
   "metadata": {},
   "outputs": [],
   "source": []
  },
  {
   "cell_type": "markdown",
   "id": "027a1d42",
   "metadata": {},
   "source": [
    "# Feature Engineering"
   ]
  },
  {
   "cell_type": "code",
   "execution_count": null,
   "id": "fdfc13e8",
   "metadata": {},
   "outputs": [],
   "source": []
  },
  {
   "cell_type": "code",
   "execution_count": null,
   "id": "ae333015",
   "metadata": {},
   "outputs": [],
   "source": []
  },
  {
   "cell_type": "markdown",
   "id": "9741659a",
   "metadata": {},
   "source": [
    "# Model Building"
   ]
  },
  {
   "cell_type": "code",
   "execution_count": null,
   "id": "fef9ee45",
   "metadata": {},
   "outputs": [],
   "source": []
  },
  {
   "cell_type": "code",
   "execution_count": null,
   "id": "040fa58d",
   "metadata": {},
   "outputs": [],
   "source": []
  },
  {
   "cell_type": "markdown",
   "id": "bfc36d4e",
   "metadata": {},
   "source": [
    "# Conclusions and Visualizations"
   ]
  },
  {
   "cell_type": "code",
   "execution_count": null,
   "id": "e458b722",
   "metadata": {},
   "outputs": [],
   "source": []
  },
  {
   "cell_type": "code",
   "execution_count": null,
   "id": "ee5ffce9",
   "metadata": {},
   "outputs": [],
   "source": []
  }
 ],
 "metadata": {
  "kernelspec": {
   "display_name": "Python 3 (ipykernel)",
   "language": "python",
   "name": "python3"
  },
  "language_info": {
   "codemirror_mode": {
    "name": "ipython",
    "version": 3
   },
   "file_extension": ".py",
   "mimetype": "text/x-python",
   "name": "python",
   "nbconvert_exporter": "python",
   "pygments_lexer": "ipython3",
   "version": "3.9.7"
  }
 },
 "nbformat": 4,
 "nbformat_minor": 5
}
